{
 "cells": [
  {
   "cell_type": "code",
   "execution_count": 1,
   "id": "87a6febd-6035-44c7-aaad-66759a6a400e",
   "metadata": {
    "scrolled": true
   },
   "outputs": [],
   "source": [
    "import pandas as pd\n",
    "import csv\n",
    "import math\n",
    "import io\n",
    "from scipy import stats\n",
    "#from google.colab import files\n",
    "import matplotlib.pyplot as plt\n",
    "import seaborn as sns\n",
    "from datetime import datetime\n",
    "sns.set()\n",
    "\n"
   ]
  },
  {
   "cell_type": "code",
   "execution_count": 2,
   "id": "632df3c4-354d-4108-9ff3-aa80c5278c78",
   "metadata": {
    "scrolled": true
   },
   "outputs": [
    {
     "name": "stdout",
     "output_type": "stream",
     "text": [
      "<class 'pandas.core.frame.DataFrame'>\n",
      "RangeIndex: 2226382 entries, 0 to 2226381\n",
      "Data columns (total 12 columns):\n",
      " #   Column          Dtype  \n",
      "---  ------          -----  \n",
      " 0   brokered_by     float64\n",
      " 1   status          object \n",
      " 2   price           float64\n",
      " 3   bed             float64\n",
      " 4   bath            float64\n",
      " 5   acre_lot        float64\n",
      " 6   street          float64\n",
      " 7   city            object \n",
      " 8   state           object \n",
      " 9   zip_code        float64\n",
      " 10  house_size      float64\n",
      " 11  prev_sold_date  object \n",
      "dtypes: float64(8), object(4)\n",
      "memory usage: 203.8+ MB\n"
     ]
    }
   ],
   "source": [
    "# Location of the dataset is https://www.kaggle.com/datasets/ahmedshahriarsakib/usa-real-estate-dataset\n",
    "\n",
    "df = pd.read_csv('PythonLearning/Capstone Project/realtor-data.zip.csv')\n",
    "df.info()"
   ]
  },
  {
   "cell_type": "code",
   "execution_count": 3,
   "id": "8cb942e6-3539-4354-b278-e6ef4f8f35b0",
   "metadata": {},
   "outputs": [
    {
     "name": "stdout",
     "output_type": "stream",
     "text": [
      "brokered_by values are: \n",
      "4533\n",
      "110143\n",
      "float64\n",
      "[103378.  52707. 103379. ...  12005.  76918.  98730.]\n",
      "------------------------------\n",
      "status values are: \n",
      "0\n",
      "3\n",
      "object\n",
      "['for_sale' 'ready_to_build' 'sold']\n",
      "------------------------------\n",
      "price values are: \n",
      "1541\n",
      "102137\n",
      "float64\n",
      "[105000.  80000.  67000. ... 386464. 488512. 280290.]\n",
      "------------------------------\n",
      "bed values are: \n",
      "481317\n",
      "99\n",
      "float64\n",
      "[  3.   4.   2.   6.   5.   1.   9.  nan   7.   8.  12.  13.  10.  11.\n",
      "  33.  24.  28.  14.  18.  20.  16.  15.  19.  17.  40.  21.  86.  31.\n",
      "  27.  42.  60.  22.  32.  99.  49.  29.  30.  23.  46.  36.  68. 123.\n",
      "  25.  47.  35.  38.  64.  48.  75. 142.  61.  70.  53.  26.  34.  54.\n",
      "  71. 210.  66.  44.  37.  62.  72. 100.  55.  74.  73. 473.  52. 110.\n",
      " 136.  50.  98. 102.  69.  82.  41.  76.  43.  80.  67. 190.  93.  45.\n",
      "  96.  57.  39.  56.  63.  90. 108. 111. 212.  88. 222. 444. 148.  84.\n",
      " 114. 120.]\n",
      "------------------------------\n",
      "bath values are: \n",
      "511771\n",
      "86\n",
      "float64\n",
      "[  2.   1.   3.   5.   4.   7.   6.  nan   8.   9.  10.  12.  13.  35.\n",
      "  11.  16.  15.  18.  20.  14.  36.  25.  17.  19.  56.  42.  51.  28.\n",
      " 198.  22.  33.  27.  30.  29.  24.  46.  21. 123.  39.  43.  32.  45.\n",
      "  64.  31.  54.  68.  23.  37.  26. 212.  69.  44.  49.  60.  70.  71.\n",
      " 157.  97.  99.  47.  80.  38.  48.  52.  72. 752.  40. 163. 460.  53.\n",
      "  62.  78.  66.  57.  74.  86. 108.  41.  34.  58. 113.  50.  88. 830.\n",
      " 222. 175.  55.]\n",
      "------------------------------\n",
      "acre_lot values are: \n",
      "325589\n",
      "16057\n",
      "float64\n",
      "[1.20000e-01 8.00000e-02 1.50000e-01 ... 2.32800e+02 3.14250e+02\n",
      " 1.65072e+03]\n",
      "------------------------------\n",
      "street values are: \n",
      "10866\n",
      "2001358\n",
      "float64\n",
      "[1962661. 1902874. 1404990. ...  405677.  761379.  307704.]\n",
      "------------------------------\n",
      "city values are: \n",
      "1407\n",
      "20098\n",
      "object\n",
      "['Adjuntas' 'Juana Diaz' 'Ponce' ... 'Tbd King Ave Pasco' 'Washtucna'\n",
      " 'Kahlotus']\n",
      "------------------------------\n",
      "state values are: \n",
      "8\n",
      "55\n",
      "object\n",
      "['Puerto Rico' 'Virgin Islands' 'Massachusetts' 'Connecticut'\n",
      " 'New Hampshire' 'Vermont' 'New Jersey' 'New York' 'South Carolina'\n",
      " 'Tennessee' 'Rhode Island' 'Virginia' 'Wyoming' 'Maine' 'Georgia'\n",
      " 'Pennsylvania' 'West Virginia' 'Delaware' 'Louisiana' 'Ohio' 'California'\n",
      " 'Colorado' 'Maryland' 'Missouri' 'District of Columbia' 'Wisconsin'\n",
      " 'North Carolina' 'Kentucky' 'Michigan' 'Mississippi' 'Florida' 'Alabama'\n",
      " 'New Brunswick' nan 'Texas' 'Arkansas' 'Idaho' 'Indiana' 'Illinois'\n",
      " 'New Mexico' 'Iowa' 'Minnesota' 'South Dakota' 'Nebraska' 'North Dakota'\n",
      " 'Montana' 'Oklahoma' 'Kansas' 'Oregon' 'Utah' 'Nevada' 'Washington'\n",
      " 'Arizona' 'Hawaii' 'Guam' 'Alaska']\n",
      "------------------------------\n",
      "zip_code values are: \n",
      "299\n",
      "30334\n",
      "float64\n",
      "[  601.   795.   731. ... 99176. 99371. 99335.]\n",
      "------------------------------\n",
      "house_size values are: \n",
      "568484\n",
      "12061\n",
      "float64\n",
      "[  920.  1527.   748. ... 16749. 21200. 21402.]\n",
      "------------------------------\n",
      "prev_sold_date values are: \n",
      "734297\n",
      "14954\n",
      "object\n",
      "[nan '2020-02-28' '2019-06-28' ... '2021-11-07' '2021-12-26' '2021-12-25']\n",
      "------------------------------\n"
     ]
    }
   ],
   "source": [
    "# to get a better idea of each column, we'll look into it's values, null values, number of unique values and type.\n",
    "for col in df.columns:\n",
    "  print(f'{col} values are: ')\n",
    "  print(df[col].isnull().sum())  \n",
    "  print(df[col].nunique())\n",
    "  print(df[col].dtype)\n",
    "  print(df[col].unique())\n",
    "  print('-'*30)"
   ]
  },
  {
   "cell_type": "code",
   "execution_count": 11,
   "id": "21d07b38-633e-477e-82f7-5447bf74a7f7",
   "metadata": {},
   "outputs": [
    {
     "data": {
      "text/plain": [
       "<Axes: xlabel='bed', ylabel='price'>"
      ]
     },
     "execution_count": 11,
     "metadata": {},
     "output_type": "execute_result"
    },
    {
     "data": {
      "image/png": "[encoded data removed]",
      "text/plain": [
       "<Figure size 640x480 with 1 Axes>"
      ]
     },
     "metadata": {},
     "output_type": "display_data"
    }
   ],
   "source": [
    "#creating new dataset to only include 1 and 2 bedroom units with price over '0' thus eliminating null values\n",
    "df_adj=df[(df['bed']<3)&(df['price']>0)]\n",
    "sns.boxplot(y='price', x='bed', data=df_adj)\n"
   ]
  },
  {
   "cell_type": "code",
   "execution_count": 31,
   "id": "0063d32f-1a41-4508-bd40-6cc1a645bd95",
   "metadata": {},
   "outputs": [
    {
     "data": {
      "text/plain": [
       "<Axes: xlabel='bed', ylabel='price'>"
      ]
     },
     "execution_count": 31,
     "metadata": {},
     "output_type": "execute_result"
    },
    {
     "data": {
      "image/png": "[encoded data removed]",
      "text/plain": [
       "<Figure size 640x480 with 1 Axes>"
      ]
     },
     "metadata": {},
     "output_type": "display_data"
    }
   ],
   "source": [
    "#eliminating outliers, setting higher price limit to 2mln\n",
    "df_adj=df[(df['bed']<3)&(df['price']>0)&(df['price']<2000000)]\n",
    "sns.boxplot(y='price', x='bed', data=df_adj)\n"
   ]
  },
  {
   "cell_type": "code",
   "execution_count": 15,
   "id": "9a12b7e0-01ee-4522-8866-a4edf185d364",
   "metadata": {},
   "outputs": [
    {
     "data": {
      "text/plain": [
       "<Axes: xlabel='bed', ylabel='price'>"
      ]
     },
     "execution_count": 15,
     "metadata": {},
     "output_type": "execute_result"
    },
    {
     "data": {
      "image/png": "[encoded data removed]",
      "text/plain": [
       "<Figure size 640x480 with 1 Axes>"
      ]
     },
     "metadata": {},
     "output_type": "display_data"
    }
   ],
   "source": [
    "#further excluding outliers from the data. Using 1mln mark shown by the graph\n",
    "df_adj=df[(df['bed']<3)&(df['price']>0)&(df['price']<1000000)]\n",
    "sns.boxplot(y='price', x='bed', data=df_adj)\n"
   ]
  },
  {
   "cell_type": "code",
   "execution_count": 23,
   "id": "0255b7a0-fd08-4e26-a127-427246b39718",
   "metadata": {
    "scrolled": true
   },
   "outputs": [
    {
     "name": "stderr",
     "output_type": "stream",
     "text": [
      "C:\\Users\\globa\\anaconda3\\Lib\\site-packages\\seaborn\\_oldcore.py:1119: FutureWarning: use_inf_as_na option is deprecated and will be removed in a future version. Convert inf values to NaN before operating instead.\n",
      "  with pd.option_context('mode.use_inf_as_na', True):\n"
     ]
    },
    {
     "data": {
      "text/plain": [
       "<Axes: xlabel='price', ylabel='Count'>"
      ]
     },
     "execution_count": 23,
     "metadata": {},
     "output_type": "execute_result"
    },
    {
     "data": {
      "image/png": "[encoded data removed]",
      "text/plain": [
       "<Figure size 640x480 with 1 Axes>"
      ]
     },
     "metadata": {},
     "output_type": "display_data"
    }
   ],
   "source": [
    "#checking for normal distribution. Appears normally distributed, scewed to the left\n",
    "sns.histplot(df_adj['price'], alpha= .5, bins=20)"
   ]
  },
  {
   "cell_type": "code",
   "execution_count": 22,
   "id": "8175296f-5cbe-417d-97fc-438540e03cbb",
   "metadata": {},
   "outputs": [
    {
     "name": "stdout",
     "output_type": "stream",
     "text": [
      "TtestResult(statistic=2.2063878962912047, pvalue=0.02735748739549504, df=356257.0)\n",
      "One bedroom mean price 310445.5056832818\n",
      "Two bedroom mean price 312498.4720562848\n"
     ]
    }
   ],
   "source": [
    "bed_2 = df_adj[(df_adj['bed']== 2)]\n",
    "bed_1 = df_adj[(df_adj['bed']== 1)]\n",
    "print(stats.ttest_ind(bed_2['price'], bed_1['price']))\n",
    "print('One bedroom mean price', bed_1['price'].mean())   \n",
    "print('Two bedroom mean price', bed_2['price'].mean())\n",
    "# Ttest shows significant difference with p-value less than 0.05. \n",
    "#If we need a higher significance and reduce p-value to 0.001 to difference becomes insignificant."
   ]
  },
  {
   "cell_type": "code",
   "execution_count": 27,
   "id": "2c19b356-b788-4ce1-8a01-bda5245d3dfa",
   "metadata": {},
   "outputs": [
    {
     "data": {
      "text/plain": [
       "54"
      ]
     },
     "execution_count": 27,
     "metadata": {},
     "output_type": "execute_result"
    }
   ],
   "source": [
    "df_adj['state'].nunique()"
   ]
  },
  {
   "cell_type": "code",
   "execution_count": 24,
   "id": "28e6f54d-5e46-4af9-8ce6-4081b37d7693",
   "metadata": {},
   "outputs": [],
   "source": [
    "#creating state by state comparison of p-values and t-values\n",
    "A = df_adj['state'].unique()"
   ]
  },
  {
   "cell_type": "code",
   "execution_count": 44,
   "id": "f36259f0-b59a-4158-a73c-07952d988ea7",
   "metadata": {},
   "outputs": [
    {
     "name": "stdout",
     "output_type": "stream",
     "text": [
      "                   State            1br            2br     t_stat  \\\n",
      "17               Alabama  250924.116352  198065.239570  -4.474829   \n",
      "26              Oklahoma  180137.361905  150663.802740  -3.867374   \n",
      "4               New York  598473.377838  564916.742924  -5.875409   \n",
      "0          Massachusetts  468240.089936  490219.086407   2.858145   \n",
      "13        North Carolina  237378.851042  253662.796170   2.695897   \n",
      "16               Georgia  256417.706977  280704.970593   4.042388   \n",
      "22                  Iowa  147477.376000  165848.721785   2.972190   \n",
      "15        South Carolina  246101.954545  277809.891705   3.516474   \n",
      "28            New Mexico  242407.591973  275655.099015   2.644659   \n",
      "20              Missouri  154047.383439  177653.095973   4.398226   \n",
      "27              Colorado  416967.688889  482388.475446   5.970314   \n",
      "29            Washington  400555.316449  473881.835436  10.915025   \n",
      "10              Virginia  285401.293792  339647.209011   9.581633   \n",
      "12             Wisconsin  200534.606742  238946.076553   6.175906   \n",
      "33            California  502999.043125  602221.895039  22.961263   \n",
      "14              Kentucky  160342.920489  195573.930116   4.046386   \n",
      "21              Illinois  200870.938488  245899.359985  14.944457   \n",
      "30                Oregon  325734.484587  399709.588889   8.687573   \n",
      "19                 Texas  227513.226763  281151.943549  11.326919   \n",
      "34                Hawaii  571901.261731  713863.413534   8.252742   \n",
      "6             New Jersey  258500.064096  325622.360406  13.555287   \n",
      "18               Florida  266757.157165  337621.056530  25.415377   \n",
      "9               Maryland  212194.648297  276892.340811  11.238512   \n",
      "31                Nevada  306622.779710  409278.780719   7.874603   \n",
      "25                Kansas   96115.511494  130909.465948   4.032752   \n",
      "3                Vermont  225744.729167  308426.520000   3.202707   \n",
      "8                   Ohio  123995.673145  172667.722925   8.079747   \n",
      "7               Delaware  195736.630952  275630.763499   3.737542   \n",
      "5           Rhode Island  247107.403292  355952.846784   7.442566   \n",
      "1            Connecticut  208014.612691  306046.719927   8.071358   \n",
      "23             Minnesota  180290.824547  272106.034487  19.834778   \n",
      "35                Alaska  185641.767123  280438.000000   3.928307   \n",
      "24          South Dakota  175786.100000  272912.093394   3.298604   \n",
      "11  District of Columbia  407917.783345  657582.815029  30.443767   \n",
      "32               Arizona  203009.410037  349969.982131  29.390621   \n",
      "2          New Hampshire  218776.129032  391042.810767   6.824777   \n",
      "\n",
      "          p_value       Mean_dif  Mean_dif_%  \n",
      "17   7.971071e-06  -52858.876782  -21.065682  \n",
      "26   1.117331e-04  -29473.559165  -16.361714  \n",
      "4    4.270045e-09  -33556.634915   -5.607039  \n",
      "0    4.270407e-03   21978.996471    4.693959  \n",
      "13   7.032677e-03   16283.945129    6.859897  \n",
      "16   5.341513e-05   24287.263616    9.471758  \n",
      "22   2.973163e-03   18371.345785   12.457060  \n",
      "15   4.415940e-04   31707.937160   12.884066  \n",
      "28   8.234785e-03   33247.507042   13.715539  \n",
      "20   1.106694e-05   23605.712534   15.323670  \n",
      "27   2.517047e-09   65420.786558   15.689654  \n",
      "29   1.345843e-27   73326.518987   18.306215  \n",
      "10   1.209522e-21   54245.915219   19.006892  \n",
      "12   6.986899e-10   38411.469812   19.154534  \n",
      "33  4.683654e-116   99222.851914   19.726251  \n",
      "14   5.313303e-05   35231.009627   21.972289  \n",
      "21   2.936108e-50   45028.421497   22.416593  \n",
      "30   4.841765e-18   73975.104302   22.710246  \n",
      "19   1.222916e-29   53638.716786   23.576087  \n",
      "34   2.582520e-16  141962.151803   24.822843  \n",
      "6    1.604233e-41   67122.296309   25.966066  \n",
      "18  9.788340e-142   70863.899366   26.564948  \n",
      "9    4.668089e-29   64697.692514   30.489785  \n",
      "31   5.180680e-15  102656.001009   33.479574  \n",
      "25   5.699510e-05   34793.954454   36.200145  \n",
      "3    1.472053e-03   82681.790833   36.626233  \n",
      "8    7.349896e-16   48672.049780   39.253023  \n",
      "7    1.962723e-04   79894.132547   40.817159  \n",
      "5    1.472799e-13  108845.443491   44.047828  \n",
      "1    1.042112e-15   98032.107236   47.127510  \n",
      "23   1.215566e-85   91815.209940   50.926169  \n",
      "35   1.175753e-04   94796.232877   51.064065  \n",
      "24   1.042795e-03   97125.993394   55.252374  \n",
      "11  9.689521e-180  249665.031684   61.204743  \n",
      "32  2.702350e-184  146960.572095   72.391015  \n",
      "2    1.901472e-11  172266.681734   78.741078  \n"
     ]
    }
   ],
   "source": [
    "b=0 #count of results\n",
    "dfr = pd.DataFrame(columns=['State', '1br', '2br', 't_stat', 'p_value', 'Mean_dif', 'Mean_dif_%'])\n",
    "for i in range(54):\n",
    "    bed_2 = df_adj[(df_adj['bed']== 2) & (df_adj['state']==A[i])]\n",
    "    bed_1 = df_adj[(df_adj['bed']== 1) & (df_adj['state']==A[i])]\n",
    "    t_stat, p_value = stats.ttest_ind(bed_2['price'], bed_1['price'])\n",
    "    if p_value < 0.01:\n",
    "        #print(A[i])\n",
    "        #print(t_stat, p_value)\n",
    "        #print('Mean Difference', bed_2['price'].mean()-bed_1['price'].mean())\n",
    "        #print('% difference', (bed_2['price'].mean()-bed_1['price'].mean())/bed_1['price'].mean()*100)\n",
    "        b=b+1\n",
    "        # New row to be added\n",
    "        new_row = {'State': A[i], '1br': bed_1['price'].mean(), '2br':bed_2['price'].mean(), 't_stat': t_stat, 'p_value': p_value, \n",
    "                   'Mean_dif': (bed_2['price'].mean()-bed_1['price'].mean()), 'Mean_dif_%': (bed_2['price'].mean()-bed_1['price'].mean())/bed_1['price'].mean()*100}\n",
    "        # Add the new row\n",
    "        dfr.loc[len(dfr)] = new_row\n",
    "print(dfr.sort_values(by='Mean_dif_%'))    "
   ]
  },
  {
   "cell_type": "code",
   "execution_count": 40,
   "id": "4b855b9c-ae9f-4b33-8cbb-d9322804afb6",
   "metadata": {},
   "outputs": [],
   "source": [
    "# Findings: Although the overall Ttest showed significant difference between one bedroom and two bedroom units the data has to be reviewed further due to inconsistencies. \n",
    "# Out of 54 states(and territories), 36 have significant difference in price between one bedroom and two bedrooms. \n",
    "# 3 states (New York, Oklahoma and Alabama) show opposite correlation. \n",
    "# That might be attributed to coop/condo classification missing, type of building (luxury or standard), size of units not taken into account, distressed sales, etc. "
   ]
  },
  {
   "cell_type": "code",
   "execution_count": 47,
   "id": "75a100a4-83b7-4b08-bd45-f7c5e1f70932",
   "metadata": {},
   "outputs": [
    {
     "data": {
      "image/png": "[encoded data removed]",
      "text/plain": [
       "<Figure size 640x480 with 1 Axes>"
      ]
     },
     "metadata": {},
     "output_type": "display_data"
    }
   ],
   "source": [
    "sns.scatterplot(x='1br', y='Mean_dif_%', data=dfr)\n",
    "plt.xlabel(\"Price for 1 bedroom unit (Mean)\")\n",
    "plt.ylabel(\"% of price difference\")           \n",
    "plt.show()"
   ]
  },
  {
   "cell_type": "code",
   "execution_count": null,
   "id": "8ffcaa07-2376-4237-ae7e-1b2b93c3e7f0",
   "metadata": {},
   "outputs": [],
   "source": []
  }
 ],
 "metadata": {
  "kernelspec": {
   "display_name": "Python 3 (ipykernel)",
   "language": "python",
   "name": "python3"
  },
  "language_info": {
   "codemirror_mode": {
    "name": "ipython",
    "version": 3
   },
   "file_extension": ".py",
   "mimetype": "text/x-python",
   "name": "python",
   "nbconvert_exporter": "python",
   "pygments_lexer": "ipython3",
   "version": "3.11.7"
  }
 },
 "nbformat": 4,
 "nbformat_minor": 5
}
